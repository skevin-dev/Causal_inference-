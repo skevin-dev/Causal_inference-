{
 "cells": [
  {
   "cell_type": "markdown",
   "id": "437b4cf5",
   "metadata": {
    "slideshow": {
     "slide_type": "-"
    }
   },
   "source": [
    "##### import libraries "
   ]
  },
  {
   "cell_type": "code",
   "execution_count": 1,
   "id": "c1989d26",
   "metadata": {
    "slideshow": {
     "slide_type": "skip"
    }
   },
   "outputs": [],
   "source": [
    "import warnings \n",
    "warnings.filterwarnings('ignore')\n",
    "import pandas as pd \n",
    "import numpy as np \n",
    "import seaborn as sns\n",
    "sns.set()\n",
    "import matplotlib.pyplot as plt \n",
    "\n",
    "\n",
    "from sklearn.preprocessing import LabelEncoder,MinMaxScaler,StandardScaler\n",
    "from sklearn.model_selection import train_test_split\n",
    "from sklearn.metrics import r2_score,mean_squared_error,mean_absolute_error, accuracy_score,classification_report\n",
    "from sklearn.feature_selection import SelectFromModel\n",
    "\n",
    "\n",
    "# Classification Models\n",
    "\n",
    "from sklearn.ensemble import RandomForestClassifier\n",
    "import mlflow \n",
    "import pickle \n",
    "import mlflow.sklearn\n",
    "from sklearn.pipeline import Pipeline\n",
    "from sklearn.impute import SimpleImputer\n",
    "\n",
    "from datetime import datetime\n",
    "\n"
   ]
  },
  {
   "cell_type": "markdown",
   "id": "d014b593",
   "metadata": {},
   "source": [
    "##### Load data  "
   ]
  },
  {
   "cell_type": "code",
   "execution_count": 2,
   "id": "9d23d19c",
   "metadata": {},
   "outputs": [],
   "source": [
    "df = pd.read_csv('../data/data_clean.csv')"
   ]
  },
  {
   "cell_type": "code",
   "execution_count": 3,
   "id": "9fbe744d",
   "metadata": {},
   "outputs": [
    {
     "data": {
      "text/html": [
       "<div>\n",
       "<style scoped>\n",
       "    .dataframe tbody tr th:only-of-type {\n",
       "        vertical-align: middle;\n",
       "    }\n",
       "\n",
       "    .dataframe tbody tr th {\n",
       "        vertical-align: top;\n",
       "    }\n",
       "\n",
       "    .dataframe thead th {\n",
       "        text-align: right;\n",
       "    }\n",
       "</style>\n",
       "<table border=\"1\" class=\"dataframe\">\n",
       "  <thead>\n",
       "    <tr style=\"text-align: right;\">\n",
       "      <th></th>\n",
       "      <th>id</th>\n",
       "      <th>diagnosis</th>\n",
       "      <th>radius_mean</th>\n",
       "      <th>texture_mean</th>\n",
       "      <th>perimeter_mean</th>\n",
       "      <th>area_mean</th>\n",
       "      <th>smoothness_mean</th>\n",
       "      <th>compactness_mean</th>\n",
       "      <th>concavity_mean</th>\n",
       "      <th>concave points_mean</th>\n",
       "      <th>...</th>\n",
       "      <th>radius_worst</th>\n",
       "      <th>texture_worst</th>\n",
       "      <th>perimeter_worst</th>\n",
       "      <th>area_worst</th>\n",
       "      <th>smoothness_worst</th>\n",
       "      <th>compactness_worst</th>\n",
       "      <th>concavity_worst</th>\n",
       "      <th>concave points_worst</th>\n",
       "      <th>symmetry_worst</th>\n",
       "      <th>fractal_dimension_worst</th>\n",
       "    </tr>\n",
       "  </thead>\n",
       "  <tbody>\n",
       "    <tr>\n",
       "      <th>0</th>\n",
       "      <td>842517</td>\n",
       "      <td>M</td>\n",
       "      <td>20.57</td>\n",
       "      <td>17.77</td>\n",
       "      <td>132.90</td>\n",
       "      <td>1326.0</td>\n",
       "      <td>0.08474</td>\n",
       "      <td>0.07864</td>\n",
       "      <td>0.0869</td>\n",
       "      <td>0.07017</td>\n",
       "      <td>...</td>\n",
       "      <td>24.99</td>\n",
       "      <td>23.41</td>\n",
       "      <td>158.8</td>\n",
       "      <td>1956.0</td>\n",
       "      <td>0.1238</td>\n",
       "      <td>0.1866</td>\n",
       "      <td>0.2416</td>\n",
       "      <td>0.1860</td>\n",
       "      <td>0.2750</td>\n",
       "      <td>0.08902</td>\n",
       "    </tr>\n",
       "    <tr>\n",
       "      <th>1</th>\n",
       "      <td>84300903</td>\n",
       "      <td>M</td>\n",
       "      <td>19.69</td>\n",
       "      <td>21.25</td>\n",
       "      <td>130.00</td>\n",
       "      <td>1203.0</td>\n",
       "      <td>0.10960</td>\n",
       "      <td>0.15990</td>\n",
       "      <td>0.1974</td>\n",
       "      <td>0.12790</td>\n",
       "      <td>...</td>\n",
       "      <td>23.57</td>\n",
       "      <td>25.53</td>\n",
       "      <td>152.5</td>\n",
       "      <td>1709.0</td>\n",
       "      <td>0.1444</td>\n",
       "      <td>0.4245</td>\n",
       "      <td>0.4504</td>\n",
       "      <td>0.2430</td>\n",
       "      <td>0.3613</td>\n",
       "      <td>0.08758</td>\n",
       "    </tr>\n",
       "    <tr>\n",
       "      <th>2</th>\n",
       "      <td>84358402</td>\n",
       "      <td>M</td>\n",
       "      <td>20.29</td>\n",
       "      <td>14.34</td>\n",
       "      <td>135.10</td>\n",
       "      <td>1297.0</td>\n",
       "      <td>0.10030</td>\n",
       "      <td>0.13280</td>\n",
       "      <td>0.1980</td>\n",
       "      <td>0.10430</td>\n",
       "      <td>...</td>\n",
       "      <td>22.54</td>\n",
       "      <td>16.67</td>\n",
       "      <td>152.2</td>\n",
       "      <td>1575.0</td>\n",
       "      <td>0.1374</td>\n",
       "      <td>0.2050</td>\n",
       "      <td>0.4000</td>\n",
       "      <td>0.1625</td>\n",
       "      <td>0.2364</td>\n",
       "      <td>0.07678</td>\n",
       "    </tr>\n",
       "    <tr>\n",
       "      <th>3</th>\n",
       "      <td>843786</td>\n",
       "      <td>M</td>\n",
       "      <td>12.45</td>\n",
       "      <td>15.70</td>\n",
       "      <td>82.57</td>\n",
       "      <td>477.1</td>\n",
       "      <td>0.12780</td>\n",
       "      <td>0.17000</td>\n",
       "      <td>0.1578</td>\n",
       "      <td>0.08089</td>\n",
       "      <td>...</td>\n",
       "      <td>15.47</td>\n",
       "      <td>23.75</td>\n",
       "      <td>103.4</td>\n",
       "      <td>741.6</td>\n",
       "      <td>0.1791</td>\n",
       "      <td>0.5249</td>\n",
       "      <td>0.5355</td>\n",
       "      <td>0.1741</td>\n",
       "      <td>0.3985</td>\n",
       "      <td>0.12440</td>\n",
       "    </tr>\n",
       "    <tr>\n",
       "      <th>4</th>\n",
       "      <td>844359</td>\n",
       "      <td>M</td>\n",
       "      <td>18.25</td>\n",
       "      <td>19.98</td>\n",
       "      <td>119.60</td>\n",
       "      <td>1040.0</td>\n",
       "      <td>0.09463</td>\n",
       "      <td>0.10900</td>\n",
       "      <td>0.1127</td>\n",
       "      <td>0.07400</td>\n",
       "      <td>...</td>\n",
       "      <td>22.88</td>\n",
       "      <td>27.66</td>\n",
       "      <td>153.2</td>\n",
       "      <td>1606.0</td>\n",
       "      <td>0.1442</td>\n",
       "      <td>0.2576</td>\n",
       "      <td>0.3784</td>\n",
       "      <td>0.1932</td>\n",
       "      <td>0.3063</td>\n",
       "      <td>0.08368</td>\n",
       "    </tr>\n",
       "  </tbody>\n",
       "</table>\n",
       "<p>5 rows × 32 columns</p>\n",
       "</div>"
      ],
      "text/plain": [
       "         id diagnosis  radius_mean  texture_mean  perimeter_mean  area_mean  \\\n",
       "0    842517         M        20.57         17.77          132.90     1326.0   \n",
       "1  84300903         M        19.69         21.25          130.00     1203.0   \n",
       "2  84358402         M        20.29         14.34          135.10     1297.0   \n",
       "3    843786         M        12.45         15.70           82.57      477.1   \n",
       "4    844359         M        18.25         19.98          119.60     1040.0   \n",
       "\n",
       "   smoothness_mean  compactness_mean  concavity_mean  concave points_mean  \\\n",
       "0          0.08474           0.07864          0.0869              0.07017   \n",
       "1          0.10960           0.15990          0.1974              0.12790   \n",
       "2          0.10030           0.13280          0.1980              0.10430   \n",
       "3          0.12780           0.17000          0.1578              0.08089   \n",
       "4          0.09463           0.10900          0.1127              0.07400   \n",
       "\n",
       "   ...  radius_worst  texture_worst  perimeter_worst  area_worst  \\\n",
       "0  ...         24.99          23.41            158.8      1956.0   \n",
       "1  ...         23.57          25.53            152.5      1709.0   \n",
       "2  ...         22.54          16.67            152.2      1575.0   \n",
       "3  ...         15.47          23.75            103.4       741.6   \n",
       "4  ...         22.88          27.66            153.2      1606.0   \n",
       "\n",
       "   smoothness_worst  compactness_worst  concavity_worst  concave points_worst  \\\n",
       "0            0.1238             0.1866           0.2416                0.1860   \n",
       "1            0.1444             0.4245           0.4504                0.2430   \n",
       "2            0.1374             0.2050           0.4000                0.1625   \n",
       "3            0.1791             0.5249           0.5355                0.1741   \n",
       "4            0.1442             0.2576           0.3784                0.1932   \n",
       "\n",
       "   symmetry_worst  fractal_dimension_worst  \n",
       "0          0.2750                  0.08902  \n",
       "1          0.3613                  0.08758  \n",
       "2          0.2364                  0.07678  \n",
       "3          0.3985                  0.12440  \n",
       "4          0.3063                  0.08368  \n",
       "\n",
       "[5 rows x 32 columns]"
      ]
     },
     "execution_count": 3,
     "metadata": {},
     "output_type": "execute_result"
    }
   ],
   "source": [
    "df.head()"
   ]
  },
  {
   "cell_type": "markdown",
   "id": "53771a09",
   "metadata": {},
   "source": [
    "#### Label encoding of target variable"
   ]
  },
  {
   "cell_type": "code",
   "execution_count": 4,
   "id": "f1116ec5",
   "metadata": {},
   "outputs": [],
   "source": [
    "le =LabelEncoder()\n",
    "df['diagnosis'] = le.fit_transform(df['diagnosis'])"
   ]
  },
  {
   "cell_type": "code",
   "execution_count": 5,
   "id": "930d9c6e",
   "metadata": {},
   "outputs": [
    {
     "data": {
      "text/html": [
       "<div>\n",
       "<style scoped>\n",
       "    .dataframe tbody tr th:only-of-type {\n",
       "        vertical-align: middle;\n",
       "    }\n",
       "\n",
       "    .dataframe tbody tr th {\n",
       "        vertical-align: top;\n",
       "    }\n",
       "\n",
       "    .dataframe thead th {\n",
       "        text-align: right;\n",
       "    }\n",
       "</style>\n",
       "<table border=\"1\" class=\"dataframe\">\n",
       "  <thead>\n",
       "    <tr style=\"text-align: right;\">\n",
       "      <th></th>\n",
       "      <th>id</th>\n",
       "      <th>diagnosis</th>\n",
       "      <th>radius_mean</th>\n",
       "      <th>texture_mean</th>\n",
       "      <th>perimeter_mean</th>\n",
       "      <th>area_mean</th>\n",
       "      <th>smoothness_mean</th>\n",
       "      <th>compactness_mean</th>\n",
       "      <th>concavity_mean</th>\n",
       "      <th>concave points_mean</th>\n",
       "      <th>...</th>\n",
       "      <th>radius_worst</th>\n",
       "      <th>texture_worst</th>\n",
       "      <th>perimeter_worst</th>\n",
       "      <th>area_worst</th>\n",
       "      <th>smoothness_worst</th>\n",
       "      <th>compactness_worst</th>\n",
       "      <th>concavity_worst</th>\n",
       "      <th>concave points_worst</th>\n",
       "      <th>symmetry_worst</th>\n",
       "      <th>fractal_dimension_worst</th>\n",
       "    </tr>\n",
       "  </thead>\n",
       "  <tbody>\n",
       "    <tr>\n",
       "      <th>0</th>\n",
       "      <td>842517</td>\n",
       "      <td>1</td>\n",
       "      <td>20.57</td>\n",
       "      <td>17.77</td>\n",
       "      <td>132.90</td>\n",
       "      <td>1326.0</td>\n",
       "      <td>0.08474</td>\n",
       "      <td>0.07864</td>\n",
       "      <td>0.0869</td>\n",
       "      <td>0.07017</td>\n",
       "      <td>...</td>\n",
       "      <td>24.99</td>\n",
       "      <td>23.41</td>\n",
       "      <td>158.8</td>\n",
       "      <td>1956.0</td>\n",
       "      <td>0.1238</td>\n",
       "      <td>0.1866</td>\n",
       "      <td>0.2416</td>\n",
       "      <td>0.1860</td>\n",
       "      <td>0.2750</td>\n",
       "      <td>0.08902</td>\n",
       "    </tr>\n",
       "    <tr>\n",
       "      <th>1</th>\n",
       "      <td>84300903</td>\n",
       "      <td>1</td>\n",
       "      <td>19.69</td>\n",
       "      <td>21.25</td>\n",
       "      <td>130.00</td>\n",
       "      <td>1203.0</td>\n",
       "      <td>0.10960</td>\n",
       "      <td>0.15990</td>\n",
       "      <td>0.1974</td>\n",
       "      <td>0.12790</td>\n",
       "      <td>...</td>\n",
       "      <td>23.57</td>\n",
       "      <td>25.53</td>\n",
       "      <td>152.5</td>\n",
       "      <td>1709.0</td>\n",
       "      <td>0.1444</td>\n",
       "      <td>0.4245</td>\n",
       "      <td>0.4504</td>\n",
       "      <td>0.2430</td>\n",
       "      <td>0.3613</td>\n",
       "      <td>0.08758</td>\n",
       "    </tr>\n",
       "    <tr>\n",
       "      <th>2</th>\n",
       "      <td>84358402</td>\n",
       "      <td>1</td>\n",
       "      <td>20.29</td>\n",
       "      <td>14.34</td>\n",
       "      <td>135.10</td>\n",
       "      <td>1297.0</td>\n",
       "      <td>0.10030</td>\n",
       "      <td>0.13280</td>\n",
       "      <td>0.1980</td>\n",
       "      <td>0.10430</td>\n",
       "      <td>...</td>\n",
       "      <td>22.54</td>\n",
       "      <td>16.67</td>\n",
       "      <td>152.2</td>\n",
       "      <td>1575.0</td>\n",
       "      <td>0.1374</td>\n",
       "      <td>0.2050</td>\n",
       "      <td>0.4000</td>\n",
       "      <td>0.1625</td>\n",
       "      <td>0.2364</td>\n",
       "      <td>0.07678</td>\n",
       "    </tr>\n",
       "    <tr>\n",
       "      <th>3</th>\n",
       "      <td>843786</td>\n",
       "      <td>1</td>\n",
       "      <td>12.45</td>\n",
       "      <td>15.70</td>\n",
       "      <td>82.57</td>\n",
       "      <td>477.1</td>\n",
       "      <td>0.12780</td>\n",
       "      <td>0.17000</td>\n",
       "      <td>0.1578</td>\n",
       "      <td>0.08089</td>\n",
       "      <td>...</td>\n",
       "      <td>15.47</td>\n",
       "      <td>23.75</td>\n",
       "      <td>103.4</td>\n",
       "      <td>741.6</td>\n",
       "      <td>0.1791</td>\n",
       "      <td>0.5249</td>\n",
       "      <td>0.5355</td>\n",
       "      <td>0.1741</td>\n",
       "      <td>0.3985</td>\n",
       "      <td>0.12440</td>\n",
       "    </tr>\n",
       "    <tr>\n",
       "      <th>4</th>\n",
       "      <td>844359</td>\n",
       "      <td>1</td>\n",
       "      <td>18.25</td>\n",
       "      <td>19.98</td>\n",
       "      <td>119.60</td>\n",
       "      <td>1040.0</td>\n",
       "      <td>0.09463</td>\n",
       "      <td>0.10900</td>\n",
       "      <td>0.1127</td>\n",
       "      <td>0.07400</td>\n",
       "      <td>...</td>\n",
       "      <td>22.88</td>\n",
       "      <td>27.66</td>\n",
       "      <td>153.2</td>\n",
       "      <td>1606.0</td>\n",
       "      <td>0.1442</td>\n",
       "      <td>0.2576</td>\n",
       "      <td>0.3784</td>\n",
       "      <td>0.1932</td>\n",
       "      <td>0.3063</td>\n",
       "      <td>0.08368</td>\n",
       "    </tr>\n",
       "  </tbody>\n",
       "</table>\n",
       "<p>5 rows × 32 columns</p>\n",
       "</div>"
      ],
      "text/plain": [
       "         id  diagnosis  radius_mean  texture_mean  perimeter_mean  area_mean  \\\n",
       "0    842517          1        20.57         17.77          132.90     1326.0   \n",
       "1  84300903          1        19.69         21.25          130.00     1203.0   \n",
       "2  84358402          1        20.29         14.34          135.10     1297.0   \n",
       "3    843786          1        12.45         15.70           82.57      477.1   \n",
       "4    844359          1        18.25         19.98          119.60     1040.0   \n",
       "\n",
       "   smoothness_mean  compactness_mean  concavity_mean  concave points_mean  \\\n",
       "0          0.08474           0.07864          0.0869              0.07017   \n",
       "1          0.10960           0.15990          0.1974              0.12790   \n",
       "2          0.10030           0.13280          0.1980              0.10430   \n",
       "3          0.12780           0.17000          0.1578              0.08089   \n",
       "4          0.09463           0.10900          0.1127              0.07400   \n",
       "\n",
       "   ...  radius_worst  texture_worst  perimeter_worst  area_worst  \\\n",
       "0  ...         24.99          23.41            158.8      1956.0   \n",
       "1  ...         23.57          25.53            152.5      1709.0   \n",
       "2  ...         22.54          16.67            152.2      1575.0   \n",
       "3  ...         15.47          23.75            103.4       741.6   \n",
       "4  ...         22.88          27.66            153.2      1606.0   \n",
       "\n",
       "   smoothness_worst  compactness_worst  concavity_worst  concave points_worst  \\\n",
       "0            0.1238             0.1866           0.2416                0.1860   \n",
       "1            0.1444             0.4245           0.4504                0.2430   \n",
       "2            0.1374             0.2050           0.4000                0.1625   \n",
       "3            0.1791             0.5249           0.5355                0.1741   \n",
       "4            0.1442             0.2576           0.3784                0.1932   \n",
       "\n",
       "   symmetry_worst  fractal_dimension_worst  \n",
       "0          0.2750                  0.08902  \n",
       "1          0.3613                  0.08758  \n",
       "2          0.2364                  0.07678  \n",
       "3          0.3985                  0.12440  \n",
       "4          0.3063                  0.08368  \n",
       "\n",
       "[5 rows x 32 columns]"
      ]
     },
     "execution_count": 5,
     "metadata": {},
     "output_type": "execute_result"
    }
   ],
   "source": [
    "df.head()"
   ]
  },
  {
   "cell_type": "markdown",
   "id": "8ebd74e6",
   "metadata": {},
   "source": [
    "##### multicollinearity "
   ]
  },
  {
   "cell_type": "markdown",
   "id": "ebdf8c9a",
   "metadata": {},
   "source": [
    "###### high and low correlated columns "
   ]
  },
  {
   "cell_type": "code",
   "execution_count": 6,
   "id": "84e79571",
   "metadata": {},
   "outputs": [],
   "source": [
    "cor_matrix = df.iloc[:,2:].corr().abs()\n",
    "upper_tri = cor_matrix.where(np.triu(np.ones(cor_matrix.shape),k=1).astype(np.bool))\n",
    "high_cols = [column for column in upper_tri.columns if any(upper_tri[column] > 0.90)]\n",
    "low_cols = [column for column in upper_tri.columns if any(upper_tri[column] <= 0.90)]"
   ]
  },
  {
   "cell_type": "code",
   "execution_count": 7,
   "id": "85b4926b",
   "metadata": {},
   "outputs": [
    {
     "data": {
      "text/plain": [
       "['perimeter_mean',\n",
       " 'area_mean',\n",
       " 'concave points_mean',\n",
       " 'perimeter_se',\n",
       " 'area_se',\n",
       " 'radius_worst',\n",
       " 'texture_worst',\n",
       " 'perimeter_worst',\n",
       " 'area_worst',\n",
       " 'concave points_worst']"
      ]
     },
     "execution_count": 7,
     "metadata": {},
     "output_type": "execute_result"
    }
   ],
   "source": [
    "high_cols"
   ]
  },
  {
   "cell_type": "code",
   "execution_count": 8,
   "id": "0ce48bfc",
   "metadata": {},
   "outputs": [
    {
     "data": {
      "text/plain": [
       "['texture_mean',\n",
       " 'perimeter_mean',\n",
       " 'area_mean',\n",
       " 'smoothness_mean',\n",
       " 'compactness_mean',\n",
       " 'concavity_mean',\n",
       " 'concave points_mean',\n",
       " 'symmetry_mean',\n",
       " 'fractal_dimension_mean',\n",
       " 'radius_se',\n",
       " 'texture_se',\n",
       " 'perimeter_se',\n",
       " 'area_se',\n",
       " 'smoothness_se',\n",
       " 'compactness_se',\n",
       " 'concavity_se',\n",
       " 'concave points_se',\n",
       " 'symmetry_se',\n",
       " 'fractal_dimension_se',\n",
       " 'radius_worst',\n",
       " 'texture_worst',\n",
       " 'perimeter_worst',\n",
       " 'area_worst',\n",
       " 'smoothness_worst',\n",
       " 'compactness_worst',\n",
       " 'concavity_worst',\n",
       " 'concave points_worst',\n",
       " 'symmetry_worst',\n",
       " 'fractal_dimension_worst']"
      ]
     },
     "execution_count": 8,
     "metadata": {},
     "output_type": "execute_result"
    }
   ],
   "source": [
    "low_cols"
   ]
  },
  {
   "cell_type": "markdown",
   "id": "392d3abb",
   "metadata": {},
   "source": [
    "##### split target variable and independent variables"
   ]
  },
  {
   "cell_type": "code",
   "execution_count": 9,
   "id": "9f62fc18",
   "metadata": {},
   "outputs": [],
   "source": [
    "X = df.iloc[:,2:]\n",
    "y = df[['diagnosis']]"
   ]
  },
  {
   "cell_type": "markdown",
   "id": "70443389",
   "metadata": {},
   "source": [
    "##### feature scaling"
   ]
  },
  {
   "cell_type": "code",
   "execution_count": 10,
   "id": "f1213b68",
   "metadata": {},
   "outputs": [],
   "source": [
    "scaler = MinMaxScaler()\n",
    "scaler.fit(X)\n",
    "Xs = scaler.transform(X)"
   ]
  },
  {
   "cell_type": "markdown",
   "id": "7578e228",
   "metadata": {},
   "source": [
    "###### train and test splitting  "
   ]
  },
  {
   "cell_type": "code",
   "execution_count": 11,
   "id": "f9f11509",
   "metadata": {},
   "outputs": [],
   "source": [
    "X_train,X_test,y_train,y_test = train_test_split(Xs,y,test_size=0.2,random_state=42)"
   ]
  },
  {
   "cell_type": "code",
   "execution_count": 12,
   "id": "1819538b",
   "metadata": {},
   "outputs": [
    {
     "name": "stdout",
     "output_type": "stream",
     "text": [
      "X-train shape is(388, 30)\n",
      "X-test shape is(98, 30)\n",
      "y-train shape is(388, 1)\n",
      "y-test shape is(98, 1)\n"
     ]
    }
   ],
   "source": [
    "print(f'X-train shape is{X_train.shape}')\n",
    "print(f'X-test shape is{X_test.shape}')\n",
    "print(f'y-train shape is{y_train.shape}')\n",
    "print(f'y-test shape is{y_test.shape}')"
   ]
  },
  {
   "cell_type": "markdown",
   "id": "8b17a4ef",
   "metadata": {},
   "source": [
    "##### model random forest "
   ]
  },
  {
   "cell_type": "code",
   "execution_count": 13,
   "id": "d5294648",
   "metadata": {},
   "outputs": [],
   "source": [
    "criter = 'gini'\n",
    "depth = 20\n",
    "estimators =60\n",
    "boot = False\n",
    "\n",
    "with mlflow.start_run():\n",
    "    RandomForest_pipeline=Pipeline([\n",
    "                         ('imputer', SimpleImputer(strategy='mean')),\n",
    "                        ('scaler',StandardScaler()),\n",
    "                         ('rf_classifier',RandomForestClassifier( n_estimators=estimators,\n",
    "                                    max_depth=depth,\n",
    "                                    criterion=criter,\n",
    "                                    bootstrap=boot))])\n",
    "    \n",
    "    rf_model = RandomForest_pipeline.fit(X_train,y_train)\n",
    "    y_pred = rf_model.predict(X_test)\n",
    "    accuracy = accuracy_score(y_test,y_pred)\n",
    "\n",
    "    mlflow.log_param(\"number of estimators\", estimators)\n",
    "    mlflow.log_param(\"maximum depth\", depth)\n",
    "    mlflow.log_param(\"Criterion\", criter)\n",
    "    mlflow.log_param(\"bootstrap\", boot)\n",
    "    mlflow.log_metric(\"accuracy score\", accuracy)\n",
    "    \n",
    "    mlflow.sklearn.log_model(rf_model,\"classifier model\")"
   ]
  },
  {
   "cell_type": "markdown",
   "id": "94517e0d",
   "metadata": {},
   "source": [
    "###### feature importance "
   ]
  },
  {
   "cell_type": "code",
   "execution_count": 14,
   "id": "6f6f1387",
   "metadata": {},
   "outputs": [
    {
     "data": {
      "text/plain": [
       "RandomForestClassifier()"
      ]
     },
     "execution_count": 14,
     "metadata": {},
     "output_type": "execute_result"
    }
   ],
   "source": [
    "rf = RandomForestClassifier()\n",
    "rf.fit(X_train,y_train)"
   ]
  },
  {
   "cell_type": "code",
   "execution_count": 15,
   "id": "ca86c320",
   "metadata": {},
   "outputs": [
    {
     "data": {
      "text/html": [
       "<div>\n",
       "<style scoped>\n",
       "    .dataframe tbody tr th:only-of-type {\n",
       "        vertical-align: middle;\n",
       "    }\n",
       "\n",
       "    .dataframe tbody tr th {\n",
       "        vertical-align: top;\n",
       "    }\n",
       "\n",
       "    .dataframe thead th {\n",
       "        text-align: right;\n",
       "    }\n",
       "</style>\n",
       "<table border=\"1\" class=\"dataframe\">\n",
       "  <thead>\n",
       "    <tr style=\"text-align: right;\">\n",
       "      <th></th>\n",
       "      <th>Features</th>\n",
       "      <th>importance</th>\n",
       "    </tr>\n",
       "  </thead>\n",
       "  <tbody>\n",
       "    <tr>\n",
       "      <th>0</th>\n",
       "      <td>perimeter_worst</td>\n",
       "      <td>0.163518</td>\n",
       "    </tr>\n",
       "    <tr>\n",
       "      <th>1</th>\n",
       "      <td>area_worst</td>\n",
       "      <td>0.137457</td>\n",
       "    </tr>\n",
       "    <tr>\n",
       "      <th>2</th>\n",
       "      <td>radius_worst</td>\n",
       "      <td>0.097964</td>\n",
       "    </tr>\n",
       "    <tr>\n",
       "      <th>3</th>\n",
       "      <td>concavity_mean</td>\n",
       "      <td>0.082454</td>\n",
       "    </tr>\n",
       "    <tr>\n",
       "      <th>4</th>\n",
       "      <td>concave points_mean</td>\n",
       "      <td>0.082297</td>\n",
       "    </tr>\n",
       "    <tr>\n",
       "      <th>5</th>\n",
       "      <td>concave points_worst</td>\n",
       "      <td>0.064016</td>\n",
       "    </tr>\n",
       "    <tr>\n",
       "      <th>6</th>\n",
       "      <td>perimeter_mean</td>\n",
       "      <td>0.058099</td>\n",
       "    </tr>\n",
       "    <tr>\n",
       "      <th>7</th>\n",
       "      <td>concavity_worst</td>\n",
       "      <td>0.055959</td>\n",
       "    </tr>\n",
       "    <tr>\n",
       "      <th>8</th>\n",
       "      <td>area_mean</td>\n",
       "      <td>0.027265</td>\n",
       "    </tr>\n",
       "    <tr>\n",
       "      <th>9</th>\n",
       "      <td>compactness_worst</td>\n",
       "      <td>0.024315</td>\n",
       "    </tr>\n",
       "  </tbody>\n",
       "</table>\n",
       "</div>"
      ],
      "text/plain": [
       "               Features  importance\n",
       "0       perimeter_worst    0.163518\n",
       "1            area_worst    0.137457\n",
       "2          radius_worst    0.097964\n",
       "3        concavity_mean    0.082454\n",
       "4   concave points_mean    0.082297\n",
       "5  concave points_worst    0.064016\n",
       "6        perimeter_mean    0.058099\n",
       "7       concavity_worst    0.055959\n",
       "8             area_mean    0.027265\n",
       "9     compactness_worst    0.024315"
      ]
     },
     "execution_count": 15,
     "metadata": {},
     "output_type": "execute_result"
    }
   ],
   "source": [
    "feat_importances = pd.Series(rf.feature_importances_, index=X.columns).sort_values(ascending=False)\n",
    "\n",
    "df_features = pd.DataFrame(feat_importances)\n",
    "df_ = df_features.reset_index().rename(columns={'index':'Features',0:'importance'})\n",
    "df_.head(10)"
   ]
  },
  {
   "cell_type": "code",
   "execution_count": 16,
   "id": "e4d3428e",
   "metadata": {
    "slideshow": {
     "slide_type": "subslide"
    }
   },
   "outputs": [
    {
     "data": {
      "image/png": "[encoded data removed]",
      "text/plain": [
       "<Figure size 720x576 with 1 Axes>"
      ]
     },
     "metadata": {},
     "output_type": "display_data"
    }
   ],
   "source": [
    "plt.figure(figsize=(10,8))\n",
    "sns.barplot(x=\"importance\", y=\"Features\", data=df_,color=sns.color_palette()[0]);"
   ]
  },
  {
   "cell_type": "markdown",
   "id": "0e4e38d9",
   "metadata": {},
   "source": [
    "###### select important features "
   ]
  },
  {
   "cell_type": "code",
   "execution_count": 17,
   "id": "7384c064",
   "metadata": {},
   "outputs": [
    {
     "data": {
      "text/plain": [
       "Index(['perimeter_mean', 'area_mean', 'concavity_mean', 'concave points_mean',\n",
       "       'area_se', 'radius_worst', 'perimeter_worst', 'area_worst',\n",
       "       'concavity_worst', 'concave points_worst'],\n",
       "      dtype='object')"
      ]
     },
     "execution_count": 17,
     "metadata": {},
     "output_type": "execute_result"
    }
   ],
   "source": [
    "selected = SelectFromModel(RandomForestClassifier(n_estimators = 100))\n",
    "selected.fit(X_train, y_train)\n",
    "selected.get_support()\n",
    "selected_features= X.columns[(selected.get_support())]\n",
    "selected_features"
   ]
  },
  {
   "cell_type": "markdown",
   "id": "9ccba0bc",
   "metadata": {},
   "source": [
    "##### model serialization"
   ]
  },
  {
   "cell_type": "code",
   "execution_count": 18,
   "id": "ae3d99a0",
   "metadata": {},
   "outputs": [],
   "source": [
    "filename = '../models/' + datetime.now().strftime(\"%Y-%m-%d-%H-%M-%S\") + '.pkl'\n",
    "\n",
    "with open(filename,'wb') as f:\n",
    "    pickle.dump(rf_model,f)"
   ]
  },
  {
   "cell_type": "code",
   "execution_count": 37,
   "id": "ad1556fe",
   "metadata": {},
   "outputs": [],
   "source": [
    "selected_features_list = selected_features.tolist()"
   ]
  },
  {
   "cell_type": "code",
   "execution_count": 38,
   "id": "22974e4b",
   "metadata": {},
   "outputs": [],
   "source": [
    "selected_features_list.append('diagnosis')"
   ]
  },
  {
   "cell_type": "code",
   "execution_count": 40,
   "id": "7abc4dc4",
   "metadata": {},
   "outputs": [],
   "source": [
    "df_final = df[selected_features_list]"
   ]
  },
  {
   "cell_type": "code",
   "execution_count": 42,
   "id": "0487f1d9",
   "metadata": {},
   "outputs": [],
   "source": [
    "df_final.to_csv('../data/data_final.csv',index=False)"
   ]
  }
 ],
 "metadata": {
  "kernelspec": {
   "display_name": "Python 3 (ipykernel)",
   "language": "python",
   "name": "python3"
  },
  "language_info": {
   "codemirror_mode": {
    "name": "ipython",
    "version": 3
   },
   "file_extension": ".py",
   "mimetype": "text/x-python",
   "name": "python",
   "nbconvert_exporter": "python",
   "pygments_lexer": "ipython3",
   "version": "3.9.5"
  }
 },
 "nbformat": 4,
 "nbformat_minor": 5
}
