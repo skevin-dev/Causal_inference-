{
 "cells": [
  {
   "cell_type": "code",
   "execution_count": 1,
   "id": "2e508777",
   "metadata": {},
   "outputs": [],
   "source": [
    "import pandas as pd\n",
    "import matplotlib.pyplot as plt\n",
    "import seaborn as sns\n",
    "import sys\n",
    "sys.path.append(\"..\")\n",
    "from Scripts.clean import all_clean\n",
    "from Scripts.visualization import all_viz\n",
    "from sklearn.model_selection import train_test_split\n",
    "from sklearn.metrics import accuracy_score\n",
    "from sklearn.ensemble import RandomForestClassifier\n",
    "from sklearn.feature_selection import SelectFromModel\n",
    "from sklearn.feature_selection import SelectKBest\n",
    "from sklearn.feature_selection import chi2\n"
   ]
  },
  {
   "cell_type": "code",
   "execution_count": 2,
   "id": "0a1e41ec",
   "metadata": {},
   "outputs": [],
   "source": [
    "C = all_clean()\n",
    "V = all_viz()"
   ]
  },
  {
   "cell_type": "markdown",
   "id": "e3a6f703",
   "metadata": {},
   "source": [
    "#### Load data "
   ]
  },
  {
   "cell_type": "code",
   "execution_count": 3,
   "id": "56cdade4",
   "metadata": {},
   "outputs": [],
   "source": [
    "data = C.read_csv('../data/data-cleaned.csv')"
   ]
  },
  {
   "cell_type": "code",
   "execution_count": 4,
   "id": "2198f843",
   "metadata": {},
   "outputs": [
    {
     "data": {
      "text/html": [
       "<div>\n",
       "<style scoped>\n",
       "    .dataframe tbody tr th:only-of-type {\n",
       "        vertical-align: middle;\n",
       "    }\n",
       "\n",
       "    .dataframe tbody tr th {\n",
       "        vertical-align: top;\n",
       "    }\n",
       "\n",
       "    .dataframe thead th {\n",
       "        text-align: right;\n",
       "    }\n",
       "</style>\n",
       "<table border=\"1\" class=\"dataframe\">\n",
       "  <thead>\n",
       "    <tr style=\"text-align: right;\">\n",
       "      <th></th>\n",
       "      <th>radius_mean</th>\n",
       "      <th>texture_mean</th>\n",
       "      <th>perimeter_mean</th>\n",
       "      <th>area_mean</th>\n",
       "      <th>smoothness_mean</th>\n",
       "      <th>compactness_mean</th>\n",
       "      <th>concavity_mean</th>\n",
       "      <th>concave points_mean</th>\n",
       "      <th>symmetry_mean</th>\n",
       "      <th>fractal_dimension_mean</th>\n",
       "      <th>...</th>\n",
       "      <th>texture_worst</th>\n",
       "      <th>perimeter_worst</th>\n",
       "      <th>area_worst</th>\n",
       "      <th>smoothness_worst</th>\n",
       "      <th>compactness_worst</th>\n",
       "      <th>concavity_worst</th>\n",
       "      <th>concave points_worst</th>\n",
       "      <th>symmetry_worst</th>\n",
       "      <th>fractal_dimension_worst</th>\n",
       "      <th>diagnosis</th>\n",
       "    </tr>\n",
       "  </thead>\n",
       "  <tbody>\n",
       "    <tr>\n",
       "      <th>0</th>\n",
       "      <td>17.99</td>\n",
       "      <td>10.38</td>\n",
       "      <td>122.80</td>\n",
       "      <td>1001.0</td>\n",
       "      <td>0.118400</td>\n",
       "      <td>0.22862</td>\n",
       "      <td>0.28241</td>\n",
       "      <td>0.14710</td>\n",
       "      <td>0.2419</td>\n",
       "      <td>0.07871</td>\n",
       "      <td>...</td>\n",
       "      <td>17.33</td>\n",
       "      <td>184.60</td>\n",
       "      <td>1937.05</td>\n",
       "      <td>0.1622</td>\n",
       "      <td>0.62695</td>\n",
       "      <td>0.7119</td>\n",
       "      <td>0.2654</td>\n",
       "      <td>0.41915</td>\n",
       "      <td>0.11890</td>\n",
       "      <td>M</td>\n",
       "    </tr>\n",
       "    <tr>\n",
       "      <th>1</th>\n",
       "      <td>20.57</td>\n",
       "      <td>17.77</td>\n",
       "      <td>132.90</td>\n",
       "      <td>1326.0</td>\n",
       "      <td>0.084740</td>\n",
       "      <td>0.07864</td>\n",
       "      <td>0.08690</td>\n",
       "      <td>0.07017</td>\n",
       "      <td>0.1812</td>\n",
       "      <td>0.05667</td>\n",
       "      <td>...</td>\n",
       "      <td>23.41</td>\n",
       "      <td>158.80</td>\n",
       "      <td>1937.05</td>\n",
       "      <td>0.1238</td>\n",
       "      <td>0.18660</td>\n",
       "      <td>0.2416</td>\n",
       "      <td>0.1860</td>\n",
       "      <td>0.27500</td>\n",
       "      <td>0.08902</td>\n",
       "      <td>M</td>\n",
       "    </tr>\n",
       "    <tr>\n",
       "      <th>2</th>\n",
       "      <td>19.69</td>\n",
       "      <td>21.25</td>\n",
       "      <td>130.00</td>\n",
       "      <td>1203.0</td>\n",
       "      <td>0.109600</td>\n",
       "      <td>0.15990</td>\n",
       "      <td>0.19740</td>\n",
       "      <td>0.12790</td>\n",
       "      <td>0.2069</td>\n",
       "      <td>0.05999</td>\n",
       "      <td>...</td>\n",
       "      <td>25.53</td>\n",
       "      <td>152.50</td>\n",
       "      <td>1709.00</td>\n",
       "      <td>0.1444</td>\n",
       "      <td>0.42450</td>\n",
       "      <td>0.4504</td>\n",
       "      <td>0.2430</td>\n",
       "      <td>0.36130</td>\n",
       "      <td>0.08758</td>\n",
       "      <td>M</td>\n",
       "    </tr>\n",
       "    <tr>\n",
       "      <th>3</th>\n",
       "      <td>11.42</td>\n",
       "      <td>20.38</td>\n",
       "      <td>77.58</td>\n",
       "      <td>386.1</td>\n",
       "      <td>0.133695</td>\n",
       "      <td>0.22862</td>\n",
       "      <td>0.24140</td>\n",
       "      <td>0.10520</td>\n",
       "      <td>0.2464</td>\n",
       "      <td>0.07875</td>\n",
       "      <td>...</td>\n",
       "      <td>26.50</td>\n",
       "      <td>98.87</td>\n",
       "      <td>567.70</td>\n",
       "      <td>0.1901</td>\n",
       "      <td>0.62695</td>\n",
       "      <td>0.6869</td>\n",
       "      <td>0.2575</td>\n",
       "      <td>0.41915</td>\n",
       "      <td>0.12301</td>\n",
       "      <td>M</td>\n",
       "    </tr>\n",
       "    <tr>\n",
       "      <th>4</th>\n",
       "      <td>20.29</td>\n",
       "      <td>14.34</td>\n",
       "      <td>135.10</td>\n",
       "      <td>1297.0</td>\n",
       "      <td>0.100300</td>\n",
       "      <td>0.13280</td>\n",
       "      <td>0.19800</td>\n",
       "      <td>0.10430</td>\n",
       "      <td>0.1809</td>\n",
       "      <td>0.05883</td>\n",
       "      <td>...</td>\n",
       "      <td>16.67</td>\n",
       "      <td>152.20</td>\n",
       "      <td>1575.00</td>\n",
       "      <td>0.1374</td>\n",
       "      <td>0.20500</td>\n",
       "      <td>0.4000</td>\n",
       "      <td>0.1625</td>\n",
       "      <td>0.23640</td>\n",
       "      <td>0.07678</td>\n",
       "      <td>M</td>\n",
       "    </tr>\n",
       "  </tbody>\n",
       "</table>\n",
       "<p>5 rows × 31 columns</p>\n",
       "</div>"
      ],
      "text/plain": [
       "   radius_mean  texture_mean  perimeter_mean  area_mean  smoothness_mean  \\\n",
       "0        17.99         10.38          122.80     1001.0         0.118400   \n",
       "1        20.57         17.77          132.90     1326.0         0.084740   \n",
       "2        19.69         21.25          130.00     1203.0         0.109600   \n",
       "3        11.42         20.38           77.58      386.1         0.133695   \n",
       "4        20.29         14.34          135.10     1297.0         0.100300   \n",
       "\n",
       "   compactness_mean  concavity_mean  concave points_mean  symmetry_mean  \\\n",
       "0           0.22862         0.28241              0.14710         0.2419   \n",
       "1           0.07864         0.08690              0.07017         0.1812   \n",
       "2           0.15990         0.19740              0.12790         0.2069   \n",
       "3           0.22862         0.24140              0.10520         0.2464   \n",
       "4           0.13280         0.19800              0.10430         0.1809   \n",
       "\n",
       "   fractal_dimension_mean  ...  texture_worst  perimeter_worst  area_worst  \\\n",
       "0                 0.07871  ...          17.33           184.60     1937.05   \n",
       "1                 0.05667  ...          23.41           158.80     1937.05   \n",
       "2                 0.05999  ...          25.53           152.50     1709.00   \n",
       "3                 0.07875  ...          26.50            98.87      567.70   \n",
       "4                 0.05883  ...          16.67           152.20     1575.00   \n",
       "\n",
       "   smoothness_worst  compactness_worst  concavity_worst  concave points_worst  \\\n",
       "0            0.1622            0.62695           0.7119                0.2654   \n",
       "1            0.1238            0.18660           0.2416                0.1860   \n",
       "2            0.1444            0.42450           0.4504                0.2430   \n",
       "3            0.1901            0.62695           0.6869                0.2575   \n",
       "4            0.1374            0.20500           0.4000                0.1625   \n",
       "\n",
       "   symmetry_worst  fractal_dimension_worst  diagnosis  \n",
       "0         0.41915                  0.11890          M  \n",
       "1         0.27500                  0.08902          M  \n",
       "2         0.36130                  0.08758          M  \n",
       "3         0.41915                  0.12301          M  \n",
       "4         0.23640                  0.07678          M  \n",
       "\n",
       "[5 rows x 31 columns]"
      ]
     },
     "execution_count": 4,
     "metadata": {},
     "output_type": "execute_result"
    }
   ],
   "source": [
    "data.head()"
   ]
  },
  {
   "cell_type": "markdown",
   "id": "1ac9fb52",
   "metadata": {},
   "source": [
    "##### Independent and dependent variables"
   ]
  },
  {
   "cell_type": "code",
   "execution_count": 5,
   "id": "541fd5c9",
   "metadata": {},
   "outputs": [],
   "source": [
    "X = data.iloc[:,:-1]\n",
    "y = (data.diagnosis).map(lambda x: 1 if x == \"M\" else 0 )"
   ]
  },
  {
   "cell_type": "code",
   "execution_count": 6,
   "id": "122cd02e",
   "metadata": {},
   "outputs": [],
   "source": [
    "X_scaled = C.scaler(X,X.columns,mode=\"minmax\")"
   ]
  },
  {
   "cell_type": "markdown",
   "id": "f473ec5d",
   "metadata": {},
   "source": [
    "## selected features based on correlation "
   ]
  },
  {
   "cell_type": "code",
   "execution_count": 7,
   "id": "4775f4c0",
   "metadata": {},
   "outputs": [
    {
     "data": {
      "text/plain": [
       "['perimeter_worst',\n",
       " 'area_worst',\n",
       " 'radius_worst',\n",
       " 'concave points_worst',\n",
       " 'concave points_mean',\n",
       " 'perimeter_mean',\n",
       " 'area_mean',\n",
       " 'radius_mean',\n",
       " 'area_se',\n",
       " 'concavity_mean']"
      ]
     },
     "execution_count": 7,
     "metadata": {},
     "output_type": "execute_result"
    }
   ],
   "source": [
    "correlation = pd.DataFrame(X_scaled.corrwith(y)).sort_values(by=0, ascending=False)\n",
    "correlation.rename({0: \"diagnosis\"}, axis=1,inplace=True)\n",
    "\n",
    "### top 10 feature with high correlation with dependent variable\n",
    "top_10_feat_corr = correlation.head(10).index.tolist()\n",
    "top_10_feat_corr"
   ]
  },
  {
   "cell_type": "code",
   "execution_count": 8,
   "id": "09a892ed",
   "metadata": {},
   "outputs": [],
   "source": [
    "X_scaled_corr = X_scaled[top_10_feat_corr]"
   ]
  },
  {
   "cell_type": "code",
   "execution_count": 9,
   "id": "80f55f94",
   "metadata": {},
   "outputs": [],
   "source": [
    "X_train_corr,X_test_corr,y_train_corr,y_test_corr = train_test_split(X_scaled_corr,y,test_size=0.2,random_state=42)"
   ]
  },
  {
   "cell_type": "code",
   "execution_count": 10,
   "id": "21071d55",
   "metadata": {},
   "outputs": [],
   "source": [
    "def accuracy(X, X1, y, y1):\n",
    "    \"\"\"\n",
    "    --find accuracy using random forest\n",
    "    \"\"\"\n",
    "    rf = RandomForestClassifier()\n",
    "    rf = rf.fit(X,y)\n",
    "\n",
    "    acc = accuracy_score(y1,rf.predict(X1))\n",
    "    print(f'the accuracy is {acc}')"
   ]
  },
  {
   "cell_type": "code",
   "execution_count": 11,
   "id": "7379bec7",
   "metadata": {},
   "outputs": [
    {
     "name": "stdout",
     "output_type": "stream",
     "text": [
      "the accuracy is 0.956140350877193\n"
     ]
    }
   ],
   "source": [
    "accuracy(X_train_corr,X_test_corr,y_train_corr,y_test_corr)"
   ]
  },
  {
   "cell_type": "markdown",
   "id": "4b325a34",
   "metadata": {},
   "source": [
    "## Univariate feature selection using chi "
   ]
  },
  {
   "cell_type": "code",
   "execution_count": 12,
   "id": "1be19720",
   "metadata": {},
   "outputs": [],
   "source": [
    "X_train, X_test, y_train, y_test = train_test_split(X_scaled, y, test_size=0.2, random_state=42)\n"
   ]
  },
  {
   "cell_type": "code",
   "execution_count": 13,
   "id": "89b2e1a5",
   "metadata": {},
   "outputs": [],
   "source": [
    "select_feature = SelectKBest(chi2, k=10).fit(X_train, y_train)"
   ]
  },
  {
   "cell_type": "code",
   "execution_count": 14,
   "id": "b29315e3",
   "metadata": {},
   "outputs": [],
   "source": [
    "### a dic of features and scores \n",
    "\n",
    "Feat_scores = {}\n",
    "score_list = list(select_feature.scores_)\n",
    "for key in X_train.columns:\n",
    "    for value in score_list:\n",
    "        Feat_scores[key] = value\n",
    "        score_list.remove(value)\n",
    "        break "
   ]
  },
  {
   "cell_type": "code",
   "execution_count": 15,
   "id": "ab96be80",
   "metadata": {},
   "outputs": [],
   "source": [
    "feat_scores_sorted = sorted(Feat_scores.items(), key=lambda x: x[1], reverse=True)\n"
   ]
  },
  {
   "cell_type": "code",
   "execution_count": 16,
   "id": "1a21614b",
   "metadata": {},
   "outputs": [
    {
     "data": {
      "text/plain": [
       "['area_se',\n",
       " 'area_worst',\n",
       " 'concave points_mean',\n",
       " 'concavity_mean',\n",
       " 'area_mean',\n",
       " 'concavity_worst',\n",
       " 'perimeter_worst',\n",
       " 'concave points_worst',\n",
       " 'radius_worst',\n",
       " 'radius_se']"
      ]
     },
     "execution_count": 16,
     "metadata": {},
     "output_type": "execute_result"
    }
   ],
   "source": [
    "top_10_feat_chi = list((dict(feat_scores_sorted[0:10])).keys())\n",
    "top_10_feat_chi"
   ]
  },
  {
   "cell_type": "code",
   "execution_count": 17,
   "id": "8ac31317",
   "metadata": {},
   "outputs": [],
   "source": [
    "X_scaled_chi = X_scaled[top_10_feat_chi]"
   ]
  },
  {
   "cell_type": "code",
   "execution_count": 18,
   "id": "a4ccdbb4",
   "metadata": {},
   "outputs": [],
   "source": [
    "X_train_chi,X_test_chi,y_train_chi,y_test_chi = train_test_split(X_scaled_chi,y,test_size=0.2,random_state=42)"
   ]
  },
  {
   "cell_type": "code",
   "execution_count": 19,
   "id": "86ca0df0",
   "metadata": {},
   "outputs": [
    {
     "name": "stdout",
     "output_type": "stream",
     "text": [
      "the accuracy is 0.956140350877193\n"
     ]
    }
   ],
   "source": [
    "accuracy(X_train_chi,X_test_chi,y_train_chi,y_test_chi)"
   ]
  },
  {
   "cell_type": "markdown",
   "id": "ddacc54c",
   "metadata": {},
   "source": [
    "## feature selection using feature importance "
   ]
  },
  {
   "cell_type": "code",
   "execution_count": 20,
   "id": "28897c9d",
   "metadata": {},
   "outputs": [
    {
     "data": {
      "text/plain": [
       "RandomForestClassifier()"
      ]
     },
     "execution_count": 20,
     "metadata": {},
     "output_type": "execute_result"
    }
   ],
   "source": [
    "rf = RandomForestClassifier()\n",
    "rf.fit(X_train,y_train)"
   ]
  },
  {
   "cell_type": "code",
   "execution_count": 21,
   "id": "2be0dc99",
   "metadata": {},
   "outputs": [
    {
     "data": {
      "text/html": [
       "<div>\n",
       "<style scoped>\n",
       "    .dataframe tbody tr th:only-of-type {\n",
       "        vertical-align: middle;\n",
       "    }\n",
       "\n",
       "    .dataframe tbody tr th {\n",
       "        vertical-align: top;\n",
       "    }\n",
       "\n",
       "    .dataframe thead th {\n",
       "        text-align: right;\n",
       "    }\n",
       "</style>\n",
       "<table border=\"1\" class=\"dataframe\">\n",
       "  <thead>\n",
       "    <tr style=\"text-align: right;\">\n",
       "      <th></th>\n",
       "      <th>Features</th>\n",
       "      <th>importance</th>\n",
       "    </tr>\n",
       "  </thead>\n",
       "  <tbody>\n",
       "    <tr>\n",
       "      <th>0</th>\n",
       "      <td>concave points_worst</td>\n",
       "      <td>0.122865</td>\n",
       "    </tr>\n",
       "    <tr>\n",
       "      <th>1</th>\n",
       "      <td>concave points_mean</td>\n",
       "      <td>0.121965</td>\n",
       "    </tr>\n",
       "    <tr>\n",
       "      <th>2</th>\n",
       "      <td>area_worst</td>\n",
       "      <td>0.121858</td>\n",
       "    </tr>\n",
       "    <tr>\n",
       "      <th>3</th>\n",
       "      <td>perimeter_worst</td>\n",
       "      <td>0.113464</td>\n",
       "    </tr>\n",
       "    <tr>\n",
       "      <th>4</th>\n",
       "      <td>radius_worst</td>\n",
       "      <td>0.080745</td>\n",
       "    </tr>\n",
       "    <tr>\n",
       "      <th>5</th>\n",
       "      <td>concavity_mean</td>\n",
       "      <td>0.056693</td>\n",
       "    </tr>\n",
       "    <tr>\n",
       "      <th>6</th>\n",
       "      <td>radius_mean</td>\n",
       "      <td>0.048972</td>\n",
       "    </tr>\n",
       "    <tr>\n",
       "      <th>7</th>\n",
       "      <td>perimeter_mean</td>\n",
       "      <td>0.038793</td>\n",
       "    </tr>\n",
       "    <tr>\n",
       "      <th>8</th>\n",
       "      <td>area_mean</td>\n",
       "      <td>0.038746</td>\n",
       "    </tr>\n",
       "    <tr>\n",
       "      <th>9</th>\n",
       "      <td>area_se</td>\n",
       "      <td>0.034374</td>\n",
       "    </tr>\n",
       "  </tbody>\n",
       "</table>\n",
       "</div>"
      ],
      "text/plain": [
       "               Features  importance\n",
       "0  concave points_worst    0.122865\n",
       "1   concave points_mean    0.121965\n",
       "2            area_worst    0.121858\n",
       "3       perimeter_worst    0.113464\n",
       "4          radius_worst    0.080745\n",
       "5        concavity_mean    0.056693\n",
       "6           radius_mean    0.048972\n",
       "7        perimeter_mean    0.038793\n",
       "8             area_mean    0.038746\n",
       "9               area_se    0.034374"
      ]
     },
     "execution_count": 21,
     "metadata": {},
     "output_type": "execute_result"
    }
   ],
   "source": [
    "feat_importances = pd.Series(rf.feature_importances_, index=X.columns).sort_values(ascending=False)\n",
    "\n",
    "df_features = pd.DataFrame(feat_importances)\n",
    "df_ = df_features.reset_index().rename(columns={'index':'Features',0:'importance'})\n",
    "df_.head(10)"
   ]
  },
  {
   "cell_type": "code",
   "execution_count": 22,
   "id": "b94cd278",
   "metadata": {},
   "outputs": [
    {
     "data": {
      "image/png": "[encoded data removed]",
      "text/plain": [
       "<Figure size 720x576 with 1 Axes>"
      ]
     },
     "metadata": {
      "needs_background": "light"
     },
     "output_type": "display_data"
    }
   ],
   "source": [
    "plt.figure(figsize=(10,8))\n",
    "sns.barplot(x=\"importance\", y=\"Features\", data=df_,color=sns.color_palette()[0]);"
   ]
  },
  {
   "cell_type": "code",
   "execution_count": 23,
   "id": "a7207c79",
   "metadata": {},
   "outputs": [
    {
     "data": {
      "text/plain": [
       "['perimeter_mean',\n",
       " 'concavity_mean',\n",
       " 'concave points_mean',\n",
       " 'radius_worst',\n",
       " 'perimeter_worst',\n",
       " 'area_worst',\n",
       " 'concave points_worst']"
      ]
     },
     "execution_count": 23,
     "metadata": {},
     "output_type": "execute_result"
    }
   ],
   "source": [
    "selected = SelectFromModel(RandomForestClassifier(n_estimators = 100))\n",
    "selected.fit(X_train, y_train)\n",
    "selected.get_support()\n",
    "selected_features= X.columns[(selected.get_support())]\n",
    "top_feat_import = selected_features.tolist()\n",
    "top_feat_import"
   ]
  },
  {
   "cell_type": "code",
   "execution_count": 24,
   "id": "bf782409",
   "metadata": {},
   "outputs": [],
   "source": [
    "X_scaled_imp = X_scaled[top_feat_import]"
   ]
  },
  {
   "cell_type": "code",
   "execution_count": 25,
   "id": "1f2390f3",
   "metadata": {},
   "outputs": [],
   "source": [
    "X_train_imp,X_test_imp,y_train_imp,y_test_imp = train_test_split(X_scaled_imp,y,test_size=0.2,random_state=42)"
   ]
  },
  {
   "cell_type": "code",
   "execution_count": 26,
   "id": "b4c8a2d0",
   "metadata": {},
   "outputs": [
    {
     "name": "stdout",
     "output_type": "stream",
     "text": [
      "the accuracy is 0.956140350877193\n"
     ]
    }
   ],
   "source": [
    "accuracy(X_train_imp,X_test_imp,y_train_imp,y_test_imp)"
   ]
  },
  {
   "cell_type": "markdown",
   "id": "9a791fc3",
   "metadata": {},
   "source": [
    "after doing feature selection, I was decided to select 11 features from 30 given "
   ]
  },
  {
   "cell_type": "code",
   "execution_count": 28,
   "id": "a49bfe12",
   "metadata": {},
   "outputs": [],
   "source": [
    "selected_features = ['perimeter_worst',\n",
    " 'area_worst',\n",
    " 'radius_worst',\n",
    " 'concave points_worst',\n",
    " 'concave points_mean',\n",
    " 'perimeter_mean',\n",
    " 'area_mean',\n",
    " 'radius_mean',\n",
    " 'area_se',\n",
    " 'concavity_mean','concavity_worst']"
   ]
  },
  {
   "cell_type": "code",
   "execution_count": 29,
   "id": "58bc4234",
   "metadata": {},
   "outputs": [],
   "source": [
    "X_selected = data.iloc[:,:-1][selected_features]"
   ]
  },
  {
   "cell_type": "code",
   "execution_count": 31,
   "id": "70ff55f6",
   "metadata": {},
   "outputs": [],
   "source": [
    "df_selected = X_selected.join(y)"
   ]
  },
  {
   "cell_type": "code",
   "execution_count": 33,
   "id": "868f5d77",
   "metadata": {},
   "outputs": [
    {
     "data": {
      "text/html": [
       "<div>\n",
       "<style scoped>\n",
       "    .dataframe tbody tr th:only-of-type {\n",
       "        vertical-align: middle;\n",
       "    }\n",
       "\n",
       "    .dataframe tbody tr th {\n",
       "        vertical-align: top;\n",
       "    }\n",
       "\n",
       "    .dataframe thead th {\n",
       "        text-align: right;\n",
       "    }\n",
       "</style>\n",
       "<table border=\"1\" class=\"dataframe\">\n",
       "  <thead>\n",
       "    <tr style=\"text-align: right;\">\n",
       "      <th></th>\n",
       "      <th>perimeter_worst</th>\n",
       "      <th>area_worst</th>\n",
       "      <th>radius_worst</th>\n",
       "      <th>concave points_worst</th>\n",
       "      <th>concave points_mean</th>\n",
       "      <th>perimeter_mean</th>\n",
       "      <th>area_mean</th>\n",
       "      <th>radius_mean</th>\n",
       "      <th>area_se</th>\n",
       "      <th>concavity_mean</th>\n",
       "      <th>concavity_worst</th>\n",
       "      <th>diagnosis</th>\n",
       "    </tr>\n",
       "  </thead>\n",
       "  <tbody>\n",
       "    <tr>\n",
       "      <th>0</th>\n",
       "      <td>184.60</td>\n",
       "      <td>1937.05</td>\n",
       "      <td>25.38</td>\n",
       "      <td>0.2654</td>\n",
       "      <td>0.14710</td>\n",
       "      <td>122.80</td>\n",
       "      <td>1001.0</td>\n",
       "      <td>17.99</td>\n",
       "      <td>86.20</td>\n",
       "      <td>0.28241</td>\n",
       "      <td>0.7119</td>\n",
       "      <td>1</td>\n",
       "    </tr>\n",
       "    <tr>\n",
       "      <th>1</th>\n",
       "      <td>158.80</td>\n",
       "      <td>1937.05</td>\n",
       "      <td>24.99</td>\n",
       "      <td>0.1860</td>\n",
       "      <td>0.07017</td>\n",
       "      <td>132.90</td>\n",
       "      <td>1326.0</td>\n",
       "      <td>20.57</td>\n",
       "      <td>74.08</td>\n",
       "      <td>0.08690</td>\n",
       "      <td>0.2416</td>\n",
       "      <td>1</td>\n",
       "    </tr>\n",
       "    <tr>\n",
       "      <th>2</th>\n",
       "      <td>152.50</td>\n",
       "      <td>1709.00</td>\n",
       "      <td>23.57</td>\n",
       "      <td>0.2430</td>\n",
       "      <td>0.12790</td>\n",
       "      <td>130.00</td>\n",
       "      <td>1203.0</td>\n",
       "      <td>19.69</td>\n",
       "      <td>86.20</td>\n",
       "      <td>0.19740</td>\n",
       "      <td>0.4504</td>\n",
       "      <td>1</td>\n",
       "    </tr>\n",
       "    <tr>\n",
       "      <th>3</th>\n",
       "      <td>98.87</td>\n",
       "      <td>567.70</td>\n",
       "      <td>14.91</td>\n",
       "      <td>0.2575</td>\n",
       "      <td>0.10520</td>\n",
       "      <td>77.58</td>\n",
       "      <td>386.1</td>\n",
       "      <td>11.42</td>\n",
       "      <td>27.23</td>\n",
       "      <td>0.24140</td>\n",
       "      <td>0.6869</td>\n",
       "      <td>1</td>\n",
       "    </tr>\n",
       "    <tr>\n",
       "      <th>4</th>\n",
       "      <td>152.20</td>\n",
       "      <td>1575.00</td>\n",
       "      <td>22.54</td>\n",
       "      <td>0.1625</td>\n",
       "      <td>0.10430</td>\n",
       "      <td>135.10</td>\n",
       "      <td>1297.0</td>\n",
       "      <td>20.29</td>\n",
       "      <td>86.20</td>\n",
       "      <td>0.19800</td>\n",
       "      <td>0.4000</td>\n",
       "      <td>1</td>\n",
       "    </tr>\n",
       "  </tbody>\n",
       "</table>\n",
       "</div>"
      ],
      "text/plain": [
       "   perimeter_worst  area_worst  radius_worst  concave points_worst  \\\n",
       "0           184.60     1937.05         25.38                0.2654   \n",
       "1           158.80     1937.05         24.99                0.1860   \n",
       "2           152.50     1709.00         23.57                0.2430   \n",
       "3            98.87      567.70         14.91                0.2575   \n",
       "4           152.20     1575.00         22.54                0.1625   \n",
       "\n",
       "   concave points_mean  perimeter_mean  area_mean  radius_mean  area_se  \\\n",
       "0              0.14710          122.80     1001.0        17.99    86.20   \n",
       "1              0.07017          132.90     1326.0        20.57    74.08   \n",
       "2              0.12790          130.00     1203.0        19.69    86.20   \n",
       "3              0.10520           77.58      386.1        11.42    27.23   \n",
       "4              0.10430          135.10     1297.0        20.29    86.20   \n",
       "\n",
       "   concavity_mean  concavity_worst  diagnosis  \n",
       "0         0.28241           0.7119          1  \n",
       "1         0.08690           0.2416          1  \n",
       "2         0.19740           0.4504          1  \n",
       "3         0.24140           0.6869          1  \n",
       "4         0.19800           0.4000          1  "
      ]
     },
     "execution_count": 33,
     "metadata": {},
     "output_type": "execute_result"
    }
   ],
   "source": [
    "df_selected.head()"
   ]
  },
  {
   "cell_type": "code",
   "execution_count": 34,
   "id": "c768bc06",
   "metadata": {},
   "outputs": [],
   "source": [
    "C.save_csv(df_selected,'../data/data-selected.csv')"
   ]
  }
 ],
 "metadata": {
  "kernelspec": {
   "display_name": "Python 3",
   "language": "python",
   "name": "python3"
  },
  "language_info": {
   "codemirror_mode": {
    "name": "ipython",
    "version": 3
   },
   "file_extension": ".py",
   "mimetype": "text/x-python",
   "name": "python",
   "nbconvert_exporter": "python",
   "pygments_lexer": "ipython3",
   "version": "3.8.8"
  }
 },
 "nbformat": 4,
 "nbformat_minor": 5
}
